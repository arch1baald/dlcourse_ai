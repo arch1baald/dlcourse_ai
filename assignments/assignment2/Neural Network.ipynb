{
 "cells": [
  {
   "cell_type": "markdown",
   "metadata": {},
   "source": [
    "# Задание 2.1 - Нейронные сети\n",
    "\n",
    "В этом задании вы реализуете и натренируете настоящую нейроную сеть своими руками!\n",
    "\n",
    "В некотором смысле это будет расширением прошлого задания - нам нужно просто составить несколько линейных классификаторов вместе!\n",
    "\n",
    "<img src=\"https://i.redd.it/n9fgba8b0qr01.png\" alt=\"Stack_more_layers\" width=\"400px\"/>"
   ]
  },
  {
   "cell_type": "code",
   "execution_count": 1,
   "metadata": {},
   "outputs": [],
   "source": [
    "import numpy as np\n",
    "import matplotlib.pyplot as plt\n",
    "\n",
    "%matplotlib inline\n",
    "\n",
    "%load_ext autoreload\n",
    "%autoreload 2"
   ]
  },
  {
   "cell_type": "code",
   "execution_count": 2,
   "metadata": {},
   "outputs": [],
   "source": [
    "from dataset import load_svhn, random_split_train_val\n",
    "from gradient_check import check_layer_gradient, check_layer_param_gradient, check_model_gradient\n",
    "from layers import FullyConnectedLayer, ReLULayer\n",
    "from model import TwoLayerNet\n",
    "from trainer import Trainer, Dataset\n",
    "from optim import SGD, MomentumSGD\n",
    "from metrics import multiclass_accuracy"
   ]
  },
  {
   "cell_type": "markdown",
   "metadata": {},
   "source": [
    "# Загружаем данные\n",
    "\n",
    "И разделяем их на training и validation."
   ]
  },
  {
   "cell_type": "code",
   "execution_count": 3,
   "metadata": {},
   "outputs": [],
   "source": [
    "def prepare_for_neural_network(train_X, test_X):\n",
    "    train_flat = train_X.reshape(train_X.shape[0], -1).astype(np.float) / 255.0\n",
    "    test_flat = test_X.reshape(test_X.shape[0], -1).astype(np.float) / 255.0\n",
    "    \n",
    "    # Subtract mean\n",
    "    mean_image = np.mean(train_flat, axis = 0)\n",
    "    train_flat -= mean_image\n",
    "    test_flat -= mean_image\n",
    "    \n",
    "    return train_flat, test_flat\n",
    "    \n",
    "train_X, train_y, test_X, test_y = load_svhn(\"data\", max_train=10000, max_test=1000)    \n",
    "train_X, test_X = prepare_for_neural_network(train_X, test_X)\n",
    "# Split train into train and val\n",
    "train_X, train_y, val_X, val_y = random_split_train_val(train_X, train_y, num_val = 1000)"
   ]
  },
  {
   "cell_type": "markdown",
   "metadata": {},
   "source": [
    "# Как всегда, начинаем с кирпичиков\n",
    "\n",
    "Мы будем реализовывать необходимые нам слои по очереди. Каждый слой должен реализовать:\n",
    "- прямой проход (forward pass), который генерирует выход слоя по входу и запоминает необходимые данные\n",
    "- обратный проход (backward pass), который получает градиент по выходу слоя и вычисляет градиент по входу и по параметрам\n",
    "\n",
    "Начнем с ReLU, у которого параметров нет."
   ]
  },
  {
   "cell_type": "code",
   "execution_count": 4,
   "metadata": {},
   "outputs": [
    {
     "name": "stdout",
     "output_type": "stream",
     "text": [
      "Gradient check passed!\n"
     ]
    }
   ],
   "source": [
    "# TODO: Implement ReLULayer layer in layers.py\n",
    "# Note: you'll need to copy implementation of the gradient_check function from the previous assignment\n",
    "\n",
    "X = np.array([[1,-2,3],\n",
    "              [-1, 2, 0.1]\n",
    "              ])\n",
    "\n",
    "assert check_layer_gradient(ReLULayer(), X, verbose=0)"
   ]
  },
  {
   "cell_type": "markdown",
   "metadata": {},
   "source": [
    "А теперь реализуем полносвязный слой (fully connected layer), у которого будет два массива параметров: W (weights) и B (bias).\n",
    "\n",
    "Все параметры наши слои будут использовать для параметров специальный класс `Param`, в котором будут храниться значения параметров и градиенты этих параметров, вычисляемые во время обратного прохода.\n",
    "\n",
    "Это даст возможность аккумулировать (суммировать) градиенты из разных частей функции потерь, например, из cross-entropy loss и regularization loss."
   ]
  },
  {
   "cell_type": "code",
   "execution_count": 5,
   "metadata": {},
   "outputs": [
    {
     "name": "stdout",
     "output_type": "stream",
     "text": [
      "Gradient check passed!\n",
      "Gradient check passed!\n",
      "Gradient check passed!\n"
     ]
    }
   ],
   "source": [
    "# TODO: Implement FullyConnected layer forward and backward methods\n",
    "assert check_layer_gradient(FullyConnectedLayer(3, 4), X)\n",
    "# TODO: Implement storing gradients for W and B\n",
    "assert check_layer_param_gradient(FullyConnectedLayer(3, 4), X, 'W')\n",
    "assert check_layer_param_gradient(FullyConnectedLayer(3, 4), X, 'B')"
   ]
  },
  {
   "cell_type": "markdown",
   "metadata": {},
   "source": [
    "## Создаем нейронную сеть\n",
    "\n",
    "Теперь мы реализуем простейшую нейронную сеть с двумя полносвязным слоями и нелинейностью ReLU. Реализуйте функцию `compute_loss_and_gradients`, она должна запустить прямой и обратный проход через оба слоя для вычисления градиентов.\n",
    "\n",
    "Не забудьте реализовать очистку градиентов в начале функции."
   ]
  },
  {
   "cell_type": "code",
   "execution_count": 12,
   "metadata": {},
   "outputs": [
    {
     "name": "stdout",
     "output_type": "stream",
     "text": [
      "Checking gradient for FC0_w\n",
      "Gradient check passed!\n",
      "Checking gradient for FC0_b\n",
      "Gradient check passed!\n",
      "Checking gradient for FC2_w\n",
      "Gradient check passed!\n",
      "Checking gradient for FC2_b\n",
      "Gradient check passed!\n"
     ]
    },
    {
     "data": {
      "text/plain": [
       "True"
      ]
     },
     "execution_count": 12,
     "metadata": {},
     "output_type": "execute_result"
    }
   ],
   "source": [
    "# TODO: In model.py, implement compute_loss_and_gradients function\n",
    "model = TwoLayerNet(n_input = train_X.shape[1], n_output = 10, hidden_layer_size = 3, reg = 0)\n",
    "loss = model.compute_loss_and_gradients(train_X[:2], train_y[:2])\n",
    "\n",
    "# TODO Now implement backward pass and aggregate all of the params\n",
    "check_model_gradient(model, train_X[:2], train_y[:2], tol=1)"
   ]
  },
  {
   "cell_type": "markdown",
   "metadata": {},
   "source": [
    "Теперь добавьте к модели регуляризацию - она должна прибавляться к loss и делать свой вклад в градиенты."
   ]
  },
  {
   "cell_type": "code",
   "execution_count": 47,
   "metadata": {},
   "outputs": [
    {
     "name": "stdout",
     "output_type": "stream",
     "text": [
      "loss: 2.3029004697376942\n",
      "loss with reg: 2.3973803449551423\n",
      "Checking gradient for FC0_w\n",
      "Gradient check passed!\n",
      "Checking gradient for FC0_b\n",
      "Gradient check passed!\n",
      "Checking gradient for FC2_w\n",
      "Gradient check passed!\n",
      "Checking gradient for FC2_b\n",
      "Gradient check passed!\n"
     ]
    },
    {
     "data": {
      "text/plain": [
       "True"
      ]
     },
     "execution_count": 47,
     "metadata": {},
     "output_type": "execute_result"
    }
   ],
   "source": [
    "# TODO Now implement l2 regularization in the forward and backward pass\n",
    "model_with_reg = TwoLayerNet(n_input = train_X.shape[1], n_output = 10, hidden_layer_size = 3, reg = 1e1)\n",
    "loss_with_reg = model_with_reg.compute_loss_and_gradients(train_X[:2], train_y[:2])\n",
    "assert loss_with_reg > loss and not np.isclose(loss_with_reg, loss), \\\n",
    "    \"Loss with regularization (%2.4f) should be higher than without it (%2.4f)!\" % (loss_with_reg, loss)\n",
    "print('loss:', loss)\n",
    "print('loss with reg:', loss_with_reg)\n",
    "\n",
    "check_model_gradient(model_with_reg, train_X[:2], train_y[:2])"
   ]
  },
  {
   "cell_type": "markdown",
   "metadata": {},
   "source": [
    "Также реализуем функцию предсказания (вычисления значения) модели на новых данных.\n",
    "\n",
    "Какое значение точности мы ожидаем увидеть до начала тренировки?"
   ]
  },
  {
   "cell_type": "code",
   "execution_count": 48,
   "metadata": {},
   "outputs": [
    {
     "data": {
      "text/plain": [
       "0.1"
      ]
     },
     "execution_count": 48,
     "metadata": {},
     "output_type": "execute_result"
    }
   ],
   "source": [
    "# Finally, implement predict function!\n",
    "\n",
    "# TODO: Implement predict function\n",
    "# What would be the value we expect?\n",
    "multiclass_accuracy(model_with_reg.predict(train_X[:30]), train_y[:30]) "
   ]
  },
  {
   "cell_type": "markdown",
   "metadata": {},
   "source": [
    "# Допишем код для процесса тренировки\n",
    "\n",
    "Если все реализовано корректно, значение функции ошибки должно уменьшаться с каждой эпохой, пусть и медленно. Не беспокойтесь пока про validation accuracy."
   ]
  },
  {
   "cell_type": "code",
   "execution_count": 125,
   "metadata": {},
   "outputs": [
    {
     "name": "stdout",
     "output_type": "stream",
     "text": [
      "Epoch 0, Loss: 1023.647252, Train accuracy: 0.196667, val accuracy: 0.206000\n",
      "Epoch 1, Loss: 1009.690136, Train accuracy: 0.196667, val accuracy: 0.206000\n",
      "Epoch 2, Loss: 1004.566588, Train accuracy: 0.196667, val accuracy: 0.206000\n",
      "Epoch 3, Loss: 1002.592345, Train accuracy: 0.196667, val accuracy: 0.206000\n",
      "Epoch 4, Loss: 1001.428837, Train accuracy: 0.196667, val accuracy: 0.206000\n",
      "Epoch 5, Loss: 999.503796, Train accuracy: 0.196667, val accuracy: 0.206000\n",
      "Epoch 6, Loss: 994.617974, Train accuracy: 0.196667, val accuracy: 0.206000\n",
      "Epoch 7, Loss: 984.942339, Train accuracy: 0.196667, val accuracy: 0.206000\n",
      "Epoch 8, Loss: 971.917206, Train accuracy: 0.206222, val accuracy: 0.212000\n",
      "Epoch 9, Loss: 958.202508, Train accuracy: 0.234000, val accuracy: 0.237000\n",
      "Epoch 10, Loss: 943.907086, Train accuracy: 0.258778, val accuracy: 0.260000\n",
      "Epoch 11, Loss: 927.493135, Train accuracy: 0.272222, val accuracy: 0.271000\n",
      "Epoch 12, Loss: 906.772557, Train accuracy: 0.286667, val accuracy: 0.289000\n",
      "Epoch 13, Loss: 880.844922, Train accuracy: 0.306222, val accuracy: 0.314000\n",
      "Epoch 14, Loss: 850.759947, Train accuracy: 0.349111, val accuracy: 0.343000\n",
      "Epoch 15, Loss: 818.918998, Train accuracy: 0.383111, val accuracy: 0.382000\n",
      "Epoch 16, Loss: 788.202422, Train accuracy: 0.409111, val accuracy: 0.392000\n",
      "Epoch 17, Loss: 759.183523, Train accuracy: 0.437222, val accuracy: 0.428000\n",
      "Epoch 18, Loss: 732.864800, Train accuracy: 0.467333, val accuracy: 0.457000\n",
      "Epoch 19, Loss: 707.829049, Train accuracy: 0.494556, val accuracy: 0.488000\n"
     ]
    }
   ],
   "source": [
    "model = TwoLayerNet(n_input = train_X.shape[1], n_output=10, hidden_layer_size=100, reg=1e-6)\n",
    "dataset = Dataset(train_X, train_y, val_X, val_y)\n",
    "trainer = Trainer(model, dataset, SGD(), learning_rate=1e-2)\n",
    "\n",
    "# TODO Implement missing pieces in Trainer.fit function\n",
    "# You should expect loss to go down every epoch, even if it's slow\n",
    "loss_history, train_history, val_history = trainer.fit()"
   ]
  },
  {
   "cell_type": "code",
   "execution_count": 126,
   "metadata": {},
   "outputs": [
    {
     "data": {
      "text/plain": [
       "[<matplotlib.lines.Line2D at 0x7fc9ad22a450>]"
      ]
     },
     "execution_count": 126,
     "metadata": {},
     "output_type": "execute_result"
    },
    {
     "data": {
      "image/png": "[encoded data removed]",
      "text/plain": [
       "<Figure size 432x288 with 1 Axes>"
      ]
     },
     "metadata": {
      "needs_background": "light"
     },
     "output_type": "display_data"
    }
   ],
   "source": [
    "plt.plot(train_history)\n",
    "plt.plot(val_history)"
   ]
  },
  {
   "cell_type": "markdown",
   "metadata": {},
   "source": [
    "# Улучшаем процесс тренировки\n",
    "\n",
    "Мы реализуем несколько ключевых оптимизаций, необходимых для тренировки современных нейросетей."
   ]
  },
  {
   "cell_type": "markdown",
   "metadata": {},
   "source": [
    "## Уменьшение скорости обучения (learning rate decay)\n",
    "\n",
    "Одна из необходимых оптимизаций во время тренировки нейронных сетей - постепенное уменьшение скорости обучения по мере тренировки.\n",
    "\n",
    "Один из стандартных методов - уменьшение скорости обучения (learning rate) каждые N эпох на коэффициент d (часто называемый decay). Значения N и d, как всегда, являются гиперпараметрами и должны подбираться на основе эффективности на проверочных данных (validation data). \n",
    "\n",
    "В нашем случае N будет равным 1."
   ]
  },
  {
   "cell_type": "code",
   "execution_count": 127,
   "metadata": {},
   "outputs": [
    {
     "name": "stdout",
     "output_type": "stream",
     "text": [
      "Epoch 0, Loss: 1023.758117, Train accuracy: 0.196667, val accuracy: 0.206000\n",
      "Epoch 1, Loss: 1010.009520, Train accuracy: 0.196667, val accuracy: 0.206000\n",
      "Epoch 2, Loss: 1005.003458, Train accuracy: 0.196667, val accuracy: 0.206000\n",
      "Epoch 3, Loss: 1003.140895, Train accuracy: 0.196667, val accuracy: 0.206000\n",
      "Epoch 4, Loss: 1002.066056, Train accuracy: 0.196667, val accuracy: 0.206000\n",
      "Epoch 5, Loss: 1000.524121, Train accuracy: 0.196667, val accuracy: 0.206000\n",
      "Epoch 6, Loss: 996.857372, Train accuracy: 0.196667, val accuracy: 0.206000\n",
      "Epoch 7, Loss: 988.905928, Train accuracy: 0.196667, val accuracy: 0.206000\n",
      "Epoch 8, Loss: 977.702252, Train accuracy: 0.197111, val accuracy: 0.207000\n",
      "Epoch 9, Loss: 965.464759, Train accuracy: 0.221444, val accuracy: 0.228000\n",
      "Epoch 10, Loss: 952.710155, Train accuracy: 0.247111, val accuracy: 0.244000\n",
      "Epoch 11, Loss: 938.687490, Train accuracy: 0.261667, val accuracy: 0.268000\n",
      "Epoch 12, Loss: 921.735305, Train accuracy: 0.281556, val accuracy: 0.283000\n",
      "Epoch 13, Loss: 901.298387, Train accuracy: 0.302889, val accuracy: 0.306000\n",
      "Epoch 14, Loss: 878.399119, Train accuracy: 0.328556, val accuracy: 0.333000\n",
      "Epoch 15, Loss: 854.268997, Train accuracy: 0.357444, val accuracy: 0.361000\n",
      "Epoch 16, Loss: 829.016776, Train accuracy: 0.375222, val accuracy: 0.370000\n",
      "Epoch 17, Loss: 803.902024, Train accuracy: 0.398333, val accuracy: 0.395000\n",
      "Epoch 18, Loss: 780.510623, Train accuracy: 0.425222, val accuracy: 0.427000\n",
      "Epoch 19, Loss: 759.689657, Train accuracy: 0.452222, val accuracy: 0.448000\n"
     ]
    }
   ],
   "source": [
    "# TODO Implement learning rate decay inside Trainer.fit method\n",
    "# Decay should happen once per epoch\n",
    "\n",
    "model = TwoLayerNet(n_input = train_X.shape[1], n_output = 10, hidden_layer_size = 100, reg = 1e-3)\n",
    "dataset = Dataset(train_X, train_y, val_X, val_y)\n",
    "trainer = Trainer(model, dataset, SGD(), learning_rate_decay=0.99)\n",
    "\n",
    "initial_learning_rate = trainer.learning_rate\n",
    "loss_history, train_history, val_history = trainer.fit()\n",
    "\n",
    "assert trainer.learning_rate < initial_learning_rate, \"Learning rate should've been reduced\"\n",
    "assert trainer.learning_rate > 0.5*initial_learning_rate, \"Learning rate shouldn'tve been reduced that much!\""
   ]
  },
  {
   "cell_type": "markdown",
   "metadata": {},
   "source": [
    "# Накопление импульса (Momentum SGD)\n",
    "\n",
    "Другой большой класс оптимизаций - использование более эффективных методов градиентного спуска. Мы реализуем один из них - накопление импульса (Momentum SGD).\n",
    "\n",
    "Этот метод хранит скорость движения, использует градиент для ее изменения на каждом шаге, и изменяет веса пропорционально значению скорости.\n",
    "(Физическая аналогия: Вместо скорости градиенты теперь будут задавать ускорение, но будет присутствовать сила трения.)\n",
    "\n",
    "```\n",
    "velocity = momentum * velocity - learning_rate * gradient \n",
    "w = w + velocity\n",
    "```\n",
    "\n",
    "`momentum` здесь коэффициент затухания, который тоже является гиперпараметром (к счастью, для него часто есть хорошее значение по умолчанию, типичный диапазон -- 0.8-0.99).\n",
    "\n",
    "Несколько полезных ссылок, где метод разбирается более подробно:  \n",
    "http://cs231n.github.io/neural-networks-3/#sgd  \n",
    "https://distill.pub/2017/momentum/"
   ]
  },
  {
   "cell_type": "code",
   "execution_count": 124,
   "metadata": {},
   "outputs": [
    {
     "name": "stdout",
     "output_type": "stream",
     "text": [
      "Epoch 0, Loss: 1002.057709, Train accuracy: 0.222333, val accuracy: 0.220000\n",
      "Epoch 1, Loss: 902.977935, Train accuracy: 0.368889, val accuracy: 0.378000\n",
      "Epoch 2, Loss: 733.038857, Train accuracy: 0.553889, val accuracy: 0.561000\n",
      "Epoch 3, Loss: 630.200936, Train accuracy: 0.622444, val accuracy: 0.609000\n",
      "Epoch 4, Loss: 583.061951, Train accuracy: 0.631333, val accuracy: 0.598000\n",
      "Epoch 5, Loss: 548.237917, Train accuracy: 0.699667, val accuracy: 0.679000\n",
      "Epoch 6, Loss: 526.782356, Train accuracy: 0.711778, val accuracy: 0.691000\n",
      "Epoch 7, Loss: 509.167051, Train accuracy: 0.730222, val accuracy: 0.695000\n",
      "Epoch 8, Loss: 499.740208, Train accuracy: 0.740556, val accuracy: 0.681000\n",
      "Epoch 9, Loss: 488.752688, Train accuracy: 0.693333, val accuracy: 0.658000\n",
      "Epoch 10, Loss: 483.313262, Train accuracy: 0.723444, val accuracy: 0.671000\n",
      "Epoch 11, Loss: 470.431527, Train accuracy: 0.766222, val accuracy: 0.731000\n",
      "Epoch 12, Loss: 465.566115, Train accuracy: 0.785778, val accuracy: 0.714000\n",
      "Epoch 13, Loss: 455.494237, Train accuracy: 0.771667, val accuracy: 0.707000\n",
      "Epoch 14, Loss: 453.843495, Train accuracy: 0.792000, val accuracy: 0.721000\n",
      "Epoch 15, Loss: 451.127243, Train accuracy: 0.796222, val accuracy: 0.731000\n",
      "Epoch 16, Loss: 443.149522, Train accuracy: 0.802000, val accuracy: 0.740000\n",
      "Epoch 17, Loss: 436.775864, Train accuracy: 0.796889, val accuracy: 0.712000\n",
      "Epoch 18, Loss: 440.651867, Train accuracy: 0.820556, val accuracy: 0.748000\n",
      "Epoch 19, Loss: 429.396272, Train accuracy: 0.788667, val accuracy: 0.709000\n"
     ]
    }
   ],
   "source": [
    "# TODO: Implement MomentumSGD.update function in optim.py\n",
    "\n",
    "model = TwoLayerNet(n_input = train_X.shape[1], n_output = 10, hidden_layer_size = 100, reg = 1e-3)\n",
    "dataset = Dataset(train_X, train_y, val_X, val_y)\n",
    "trainer = Trainer(model, dataset, MomentumSGD(), learning_rate=1e-2, learning_rate_decay=0.99)\n",
    "\n",
    "# You should see even better results than before!\n",
    "loss_history, train_history, val_history = trainer.fit()"
   ]
  },
  {
   "cell_type": "markdown",
   "metadata": {},
   "source": [
    "# Ну что, давайте уже тренировать сеть!"
   ]
  },
  {
   "cell_type": "markdown",
   "metadata": {},
   "source": [
    "## Последний тест - переобучимся (overfit) на маленьком наборе данных\n",
    "\n",
    "Хороший способ проверить, все ли реализовано корректно - переобучить сеть на маленьком наборе данных.  \n",
    "Наша модель обладает достаточной мощностью, чтобы приблизить маленький набор данных идеально, поэтому мы ожидаем, что на нем мы быстро дойдем до 100% точности на тренировочном наборе. \n",
    "\n",
    "Если этого не происходит, то где-то была допущена ошибка!"
   ]
  },
  {
   "cell_type": "code",
   "execution_count": 136,
   "metadata": {},
   "outputs": [
    {
     "name": "stdout",
     "output_type": "stream",
     "text": [
      "Epoch 0, Loss: 6.922030, Train accuracy: 0.200000, val accuracy: 0.133333\n",
      "Epoch 1, Loss: 6.885024, Train accuracy: 0.200000, val accuracy: 0.133333\n",
      "Epoch 2, Loss: 6.853204, Train accuracy: 0.200000, val accuracy: 0.133333\n",
      "Epoch 3, Loss: 6.822285, Train accuracy: 0.200000, val accuracy: 0.133333\n",
      "Epoch 4, Loss: 6.789129, Train accuracy: 0.200000, val accuracy: 0.133333\n",
      "Epoch 5, Loss: 6.772747, Train accuracy: 0.200000, val accuracy: 0.133333\n",
      "Epoch 6, Loss: 6.684365, Train accuracy: 0.200000, val accuracy: 0.066667\n",
      "Epoch 7, Loss: 6.587616, Train accuracy: 0.266667, val accuracy: 0.000000\n",
      "Epoch 8, Loss: 6.416364, Train accuracy: 0.400000, val accuracy: 0.000000\n",
      "Epoch 9, Loss: 6.195040, Train accuracy: 0.400000, val accuracy: 0.000000\n",
      "Epoch 10, Loss: 5.798013, Train accuracy: 0.400000, val accuracy: 0.000000\n",
      "Epoch 11, Loss: 5.435054, Train accuracy: 0.400000, val accuracy: 0.000000\n",
      "Epoch 12, Loss: 5.289647, Train accuracy: 0.400000, val accuracy: 0.000000\n",
      "Epoch 13, Loss: 5.008235, Train accuracy: 0.400000, val accuracy: 0.000000\n",
      "Epoch 14, Loss: 4.860183, Train accuracy: 0.400000, val accuracy: 0.000000\n",
      "Epoch 15, Loss: 4.818643, Train accuracy: 0.466667, val accuracy: 0.000000\n",
      "Epoch 16, Loss: 5.032385, Train accuracy: 0.400000, val accuracy: 0.000000\n",
      "Epoch 17, Loss: 4.774330, Train accuracy: 0.400000, val accuracy: 0.000000\n",
      "Epoch 18, Loss: 4.555550, Train accuracy: 0.466667, val accuracy: 0.066667\n",
      "Epoch 19, Loss: 4.291276, Train accuracy: 0.466667, val accuracy: 0.000000\n",
      "Epoch 20, Loss: 4.271947, Train accuracy: 0.466667, val accuracy: 0.000000\n",
      "Epoch 21, Loss: 4.123371, Train accuracy: 0.600000, val accuracy: 0.000000\n",
      "Epoch 22, Loss: 3.907833, Train accuracy: 0.533333, val accuracy: 0.066667\n",
      "Epoch 23, Loss: 3.841252, Train accuracy: 0.666667, val accuracy: 0.000000\n",
      "Epoch 24, Loss: 3.646942, Train accuracy: 0.666667, val accuracy: 0.066667\n",
      "Epoch 25, Loss: 3.506669, Train accuracy: 0.666667, val accuracy: 0.066667\n",
      "Epoch 26, Loss: 3.344363, Train accuracy: 0.733333, val accuracy: 0.066667\n",
      "Epoch 27, Loss: 3.085574, Train accuracy: 0.800000, val accuracy: 0.133333\n",
      "Epoch 28, Loss: 3.036072, Train accuracy: 0.733333, val accuracy: 0.000000\n",
      "Epoch 29, Loss: 2.766790, Train accuracy: 0.800000, val accuracy: 0.066667\n",
      "Epoch 30, Loss: 2.566173, Train accuracy: 0.800000, val accuracy: 0.133333\n",
      "Epoch 31, Loss: 2.375079, Train accuracy: 0.800000, val accuracy: 0.066667\n",
      "Epoch 32, Loss: 2.259034, Train accuracy: 0.800000, val accuracy: 0.133333\n",
      "Epoch 33, Loss: 2.106012, Train accuracy: 0.800000, val accuracy: 0.066667\n",
      "Epoch 34, Loss: 2.020708, Train accuracy: 0.800000, val accuracy: 0.066667\n",
      "Epoch 35, Loss: 1.916953, Train accuracy: 0.800000, val accuracy: 0.066667\n",
      "Epoch 36, Loss: 1.807483, Train accuracy: 0.800000, val accuracy: 0.066667\n",
      "Epoch 37, Loss: 1.716246, Train accuracy: 0.800000, val accuracy: 0.066667\n",
      "Epoch 38, Loss: 1.706693, Train accuracy: 0.800000, val accuracy: 0.066667\n",
      "Epoch 39, Loss: 1.610133, Train accuracy: 0.866667, val accuracy: 0.066667\n",
      "Epoch 40, Loss: 1.537527, Train accuracy: 0.866667, val accuracy: 0.066667\n",
      "Epoch 41, Loss: 1.453742, Train accuracy: 0.866667, val accuracy: 0.066667\n",
      "Epoch 42, Loss: 1.389161, Train accuracy: 0.866667, val accuracy: 0.066667\n",
      "Epoch 43, Loss: 1.343316, Train accuracy: 0.866667, val accuracy: 0.066667\n",
      "Epoch 44, Loss: 1.240561, Train accuracy: 0.933333, val accuracy: 0.066667\n",
      "Epoch 45, Loss: 1.157143, Train accuracy: 0.933333, val accuracy: 0.066667\n",
      "Epoch 46, Loss: 1.070259, Train accuracy: 1.000000, val accuracy: 0.066667\n",
      "Epoch 47, Loss: 0.997128, Train accuracy: 1.000000, val accuracy: 0.066667\n",
      "Epoch 48, Loss: 0.903532, Train accuracy: 1.000000, val accuracy: 0.066667\n",
      "Epoch 49, Loss: 0.831254, Train accuracy: 1.000000, val accuracy: 0.066667\n",
      "Epoch 50, Loss: 0.739226, Train accuracy: 1.000000, val accuracy: 0.066667\n",
      "Epoch 51, Loss: 0.658211, Train accuracy: 1.000000, val accuracy: 0.000000\n",
      "Epoch 52, Loss: 0.595709, Train accuracy: 1.000000, val accuracy: 0.000000\n",
      "Epoch 53, Loss: 0.526094, Train accuracy: 1.000000, val accuracy: 0.000000\n",
      "Epoch 54, Loss: 0.460447, Train accuracy: 1.000000, val accuracy: 0.000000\n",
      "Epoch 55, Loss: 0.401404, Train accuracy: 1.000000, val accuracy: 0.000000\n",
      "Epoch 56, Loss: 0.366506, Train accuracy: 1.000000, val accuracy: 0.000000\n",
      "Epoch 57, Loss: 0.320327, Train accuracy: 1.000000, val accuracy: 0.000000\n",
      "Epoch 58, Loss: 0.287333, Train accuracy: 1.000000, val accuracy: 0.000000\n",
      "Epoch 59, Loss: 0.251113, Train accuracy: 1.000000, val accuracy: 0.000000\n",
      "Epoch 60, Loss: 0.231176, Train accuracy: 1.000000, val accuracy: 0.000000\n",
      "Epoch 61, Loss: 0.211105, Train accuracy: 1.000000, val accuracy: 0.000000\n",
      "Epoch 62, Loss: 0.188488, Train accuracy: 1.000000, val accuracy: 0.000000\n",
      "Epoch 63, Loss: 0.173763, Train accuracy: 1.000000, val accuracy: 0.000000\n",
      "Epoch 64, Loss: 0.161198, Train accuracy: 1.000000, val accuracy: 0.000000\n",
      "Epoch 65, Loss: 0.151548, Train accuracy: 1.000000, val accuracy: 0.000000\n",
      "Epoch 66, Loss: 0.142464, Train accuracy: 1.000000, val accuracy: 0.000000\n",
      "Epoch 67, Loss: 0.133541, Train accuracy: 1.000000, val accuracy: 0.000000\n",
      "Epoch 68, Loss: 0.124731, Train accuracy: 1.000000, val accuracy: 0.000000\n",
      "Epoch 69, Loss: 0.115662, Train accuracy: 1.000000, val accuracy: 0.000000\n",
      "Epoch 70, Loss: 0.109640, Train accuracy: 1.000000, val accuracy: 0.000000\n",
      "Epoch 71, Loss: 0.104249, Train accuracy: 1.000000, val accuracy: 0.000000\n",
      "Epoch 72, Loss: 0.098257, Train accuracy: 1.000000, val accuracy: 0.000000\n",
      "Epoch 73, Loss: 0.093690, Train accuracy: 1.000000, val accuracy: 0.000000\n",
      "Epoch 74, Loss: 0.088892, Train accuracy: 1.000000, val accuracy: 0.000000\n",
      "Epoch 75, Loss: 0.085389, Train accuracy: 1.000000, val accuracy: 0.000000\n",
      "Epoch 76, Loss: 0.082143, Train accuracy: 1.000000, val accuracy: 0.000000\n",
      "Epoch 77, Loss: 0.078153, Train accuracy: 1.000000, val accuracy: 0.000000\n",
      "Epoch 78, Loss: 0.075559, Train accuracy: 1.000000, val accuracy: 0.000000\n",
      "Epoch 79, Loss: 0.071937, Train accuracy: 1.000000, val accuracy: 0.000000\n",
      "Epoch 80, Loss: 0.069908, Train accuracy: 1.000000, val accuracy: 0.000000\n",
      "Epoch 81, Loss: 0.066892, Train accuracy: 1.000000, val accuracy: 0.000000\n",
      "Epoch 82, Loss: 0.064391, Train accuracy: 1.000000, val accuracy: 0.000000\n",
      "Epoch 83, Loss: 0.061903, Train accuracy: 1.000000, val accuracy: 0.000000\n",
      "Epoch 84, Loss: 0.059692, Train accuracy: 1.000000, val accuracy: 0.000000\n",
      "Epoch 85, Loss: 0.058415, Train accuracy: 1.000000, val accuracy: 0.000000\n",
      "Epoch 86, Loss: 0.055900, Train accuracy: 1.000000, val accuracy: 0.000000\n",
      "Epoch 87, Loss: 0.053978, Train accuracy: 1.000000, val accuracy: 0.000000\n",
      "Epoch 88, Loss: 0.053034, Train accuracy: 1.000000, val accuracy: 0.000000\n",
      "Epoch 89, Loss: 0.050886, Train accuracy: 1.000000, val accuracy: 0.000000\n",
      "Epoch 90, Loss: 0.049642, Train accuracy: 1.000000, val accuracy: 0.000000\n",
      "Epoch 91, Loss: 0.048474, Train accuracy: 1.000000, val accuracy: 0.000000\n",
      "Epoch 92, Loss: 0.046997, Train accuracy: 1.000000, val accuracy: 0.000000\n",
      "Epoch 93, Loss: 0.045442, Train accuracy: 1.000000, val accuracy: 0.000000\n",
      "Epoch 94, Loss: 0.044401, Train accuracy: 1.000000, val accuracy: 0.000000\n",
      "Epoch 95, Loss: 0.043441, Train accuracy: 1.000000, val accuracy: 0.000000\n",
      "Epoch 96, Loss: 0.042153, Train accuracy: 1.000000, val accuracy: 0.000000\n",
      "Epoch 97, Loss: 0.041036, Train accuracy: 1.000000, val accuracy: 0.000000\n",
      "Epoch 98, Loss: 0.040185, Train accuracy: 1.000000, val accuracy: 0.000000\n",
      "Epoch 99, Loss: 0.039151, Train accuracy: 1.000000, val accuracy: 0.000000\n",
      "Epoch 100, Loss: 0.038166, Train accuracy: 1.000000, val accuracy: 0.000000\n",
      "Epoch 101, Loss: 0.037222, Train accuracy: 1.000000, val accuracy: 0.000000\n",
      "Epoch 102, Loss: 0.036458, Train accuracy: 1.000000, val accuracy: 0.000000\n",
      "Epoch 103, Loss: 0.035782, Train accuracy: 1.000000, val accuracy: 0.000000\n",
      "Epoch 104, Loss: 0.034900, Train accuracy: 1.000000, val accuracy: 0.000000\n",
      "Epoch 105, Loss: 0.034080, Train accuracy: 1.000000, val accuracy: 0.000000\n",
      "Epoch 106, Loss: 0.033469, Train accuracy: 1.000000, val accuracy: 0.000000\n",
      "Epoch 107, Loss: 0.032770, Train accuracy: 1.000000, val accuracy: 0.000000\n",
      "Epoch 108, Loss: 0.032021, Train accuracy: 1.000000, val accuracy: 0.000000\n",
      "Epoch 109, Loss: 0.031428, Train accuracy: 1.000000, val accuracy: 0.000000\n",
      "Epoch 110, Loss: 0.030725, Train accuracy: 1.000000, val accuracy: 0.000000\n",
      "Epoch 111, Loss: 0.030068, Train accuracy: 1.000000, val accuracy: 0.000000\n",
      "Epoch 112, Loss: 0.029618, Train accuracy: 1.000000, val accuracy: 0.000000\n",
      "Epoch 113, Loss: 0.029154, Train accuracy: 1.000000, val accuracy: 0.000000\n",
      "Epoch 114, Loss: 0.028521, Train accuracy: 1.000000, val accuracy: 0.000000\n",
      "Epoch 115, Loss: 0.028148, Train accuracy: 1.000000, val accuracy: 0.000000\n",
      "Epoch 116, Loss: 0.027541, Train accuracy: 1.000000, val accuracy: 0.000000\n",
      "Epoch 117, Loss: 0.027011, Train accuracy: 1.000000, val accuracy: 0.000000\n",
      "Epoch 118, Loss: 0.026659, Train accuracy: 1.000000, val accuracy: 0.000000\n",
      "Epoch 119, Loss: 0.026092, Train accuracy: 1.000000, val accuracy: 0.000000\n",
      "Epoch 120, Loss: 0.025688, Train accuracy: 1.000000, val accuracy: 0.000000\n",
      "Epoch 121, Loss: 0.025293, Train accuracy: 1.000000, val accuracy: 0.000000\n",
      "Epoch 122, Loss: 0.024813, Train accuracy: 1.000000, val accuracy: 0.000000\n",
      "Epoch 123, Loss: 0.024440, Train accuracy: 1.000000, val accuracy: 0.000000\n",
      "Epoch 124, Loss: 0.024002, Train accuracy: 1.000000, val accuracy: 0.000000\n",
      "Epoch 125, Loss: 0.023640, Train accuracy: 1.000000, val accuracy: 0.000000\n",
      "Epoch 126, Loss: 0.023298, Train accuracy: 1.000000, val accuracy: 0.000000\n",
      "Epoch 127, Loss: 0.022942, Train accuracy: 1.000000, val accuracy: 0.000000\n",
      "Epoch 128, Loss: 0.022536, Train accuracy: 1.000000, val accuracy: 0.000000\n",
      "Epoch 129, Loss: 0.022303, Train accuracy: 1.000000, val accuracy: 0.000000\n",
      "Epoch 130, Loss: 0.021941, Train accuracy: 1.000000, val accuracy: 0.000000\n",
      "Epoch 131, Loss: 0.021611, Train accuracy: 1.000000, val accuracy: 0.000000\n",
      "Epoch 132, Loss: 0.021302, Train accuracy: 1.000000, val accuracy: 0.000000\n",
      "Epoch 133, Loss: 0.021002, Train accuracy: 1.000000, val accuracy: 0.000000\n",
      "Epoch 134, Loss: 0.020712, Train accuracy: 1.000000, val accuracy: 0.000000\n",
      "Epoch 135, Loss: 0.020402, Train accuracy: 1.000000, val accuracy: 0.000000\n",
      "Epoch 136, Loss: 0.020145, Train accuracy: 1.000000, val accuracy: 0.000000\n",
      "Epoch 137, Loss: 0.019898, Train accuracy: 1.000000, val accuracy: 0.000000\n",
      "Epoch 138, Loss: 0.019567, Train accuracy: 1.000000, val accuracy: 0.000000\n",
      "Epoch 139, Loss: 0.019314, Train accuracy: 1.000000, val accuracy: 0.000000\n",
      "Epoch 140, Loss: 0.019068, Train accuracy: 1.000000, val accuracy: 0.000000\n",
      "Epoch 141, Loss: 0.018868, Train accuracy: 1.000000, val accuracy: 0.000000\n",
      "Epoch 142, Loss: 0.018597, Train accuracy: 1.000000, val accuracy: 0.000000\n",
      "Epoch 143, Loss: 0.018342, Train accuracy: 1.000000, val accuracy: 0.000000\n",
      "Epoch 144, Loss: 0.018152, Train accuracy: 1.000000, val accuracy: 0.000000\n",
      "Epoch 145, Loss: 0.017931, Train accuracy: 1.000000, val accuracy: 0.000000\n",
      "Epoch 146, Loss: 0.017636, Train accuracy: 1.000000, val accuracy: 0.000000\n",
      "Epoch 147, Loss: 0.017433, Train accuracy: 1.000000, val accuracy: 0.000000\n",
      "Epoch 148, Loss: 0.017265, Train accuracy: 1.000000, val accuracy: 0.000000\n",
      "Epoch 149, Loss: 0.017068, Train accuracy: 1.000000, val accuracy: 0.000000\n"
     ]
    }
   ],
   "source": [
    "data_size = 15\n",
    "model = TwoLayerNet(n_input = train_X.shape[1], n_output=10, hidden_layer_size=100, reg=1e-6)\n",
    "dataset = Dataset(train_X[:data_size], train_y[:data_size], val_X[:data_size], val_y[:data_size])\n",
    "trainer = Trainer(model, dataset, SGD(), learning_rate=1e-1, num_epochs=150, batch_size=5)\n",
    "\n",
    "# You should expect this to reach 1.0 training accuracy \n",
    "loss_history, train_history, val_history = trainer.fit()"
   ]
  },
  {
   "cell_type": "markdown",
   "metadata": {},
   "source": [
    "Теперь найдем гипепараметры, для которых этот процесс сходится быстрее.\n",
    "Если все реализовано корректно, то существуют параметры, при которых процесс сходится в **20** эпох или еще быстрее.\n",
    "Найдите их!"
   ]
  },
  {
   "cell_type": "code",
   "execution_count": 152,
   "metadata": {},
   "outputs": [
    {
     "name": "stdout",
     "output_type": "stream",
     "text": [
      "Epoch 0, Loss: 6.916773, Train accuracy: 0.266667, val accuracy: 0.066667\n",
      "Epoch 1, Loss: 6.794463, Train accuracy: 0.400000, val accuracy: 0.000000\n",
      "Epoch 2, Loss: 6.626846, Train accuracy: 0.400000, val accuracy: 0.000000\n",
      "Epoch 3, Loss: 6.004165, Train accuracy: 0.333333, val accuracy: 0.000000\n",
      "Epoch 4, Loss: 5.393123, Train accuracy: 0.333333, val accuracy: 0.000000\n",
      "Epoch 5, Loss: 5.184641, Train accuracy: 0.533333, val accuracy: 0.133333\n",
      "Epoch 6, Loss: 4.924417, Train accuracy: 0.533333, val accuracy: 0.000000\n",
      "Epoch 7, Loss: 4.465237, Train accuracy: 0.600000, val accuracy: 0.000000\n",
      "Epoch 8, Loss: 4.042994, Train accuracy: 0.666667, val accuracy: 0.000000\n",
      "Epoch 9, Loss: 3.495173, Train accuracy: 0.800000, val accuracy: 0.133333\n",
      "Epoch 10, Loss: 3.330471, Train accuracy: 0.800000, val accuracy: 0.133333\n",
      "Epoch 11, Loss: 2.826936, Train accuracy: 0.600000, val accuracy: 0.000000\n",
      "Epoch 12, Loss: 2.771648, Train accuracy: 0.933333, val accuracy: 0.066667\n",
      "Epoch 13, Loss: 1.972838, Train accuracy: 0.933333, val accuracy: 0.000000\n",
      "Epoch 14, Loss: 1.613137, Train accuracy: 0.933333, val accuracy: 0.000000\n",
      "Epoch 15, Loss: 1.317800, Train accuracy: 1.000000, val accuracy: 0.000000\n",
      "Epoch 16, Loss: 1.075459, Train accuracy: 1.000000, val accuracy: 0.066667\n",
      "Epoch 17, Loss: 0.848562, Train accuracy: 1.000000, val accuracy: 0.000000\n",
      "Epoch 18, Loss: 0.639540, Train accuracy: 1.000000, val accuracy: 0.000000\n",
      "Epoch 19, Loss: 0.471012, Train accuracy: 1.000000, val accuracy: 0.000000\n"
     ]
    }
   ],
   "source": [
    "# Now, tweak some hyper parameters and make it train to 1.0 accuracy in 20 epochs or less\n",
    "\n",
    "model = TwoLayerNet(n_input = train_X.shape[1], n_output=10, hidden_layer_size=3000, reg=1e-6)\n",
    "dataset = Dataset(train_X[:data_size], train_y[:data_size], val_X[:data_size], val_y[:data_size])\n",
    "# TODO: Change any hyperparamers or optimizators to reach training accuracy in 20 epochs\n",
    "trainer = Trainer(model, dataset, SGD(), learning_rate=2e-1, num_epochs=20, batch_size=5)\n",
    "\n",
    "loss_history, train_history, val_history = trainer.fit()"
   ]
  },
  {
   "cell_type": "markdown",
   "metadata": {},
   "source": [
    "# Итак, основное мероприятие!\n",
    "\n",
    "Натренируйте лучшую нейросеть! Можно добавлять и изменять параметры, менять количество нейронов в слоях сети и как угодно экспериментировать. \n",
    "\n",
    "Добейтесь точности лучше **60%** на validation set."
   ]
  },
  {
   "cell_type": "code",
   "execution_count": 157,
   "metadata": {},
   "outputs": [
    {
     "name": "stdout",
     "output_type": "stream",
     "text": [
      "Epoch 0, Loss: 1003.589125, Train accuracy: 0.196667, val accuracy: 0.206000\n",
      "Epoch 1, Loss: 895.023949, Train accuracy: 0.412667, val accuracy: 0.417000\n",
      "Epoch 2, Loss: 742.132612, Train accuracy: 0.528000, val accuracy: 0.525000\n",
      "Epoch 3, Loss: 641.712801, Train accuracy: 0.618778, val accuracy: 0.610000\n",
      "Epoch 4, Loss: 574.758389, Train accuracy: 0.669222, val accuracy: 0.652000\n",
      "Epoch 5, Loss: 540.943640, Train accuracy: 0.693667, val accuracy: 0.663000\n",
      "Epoch 6, Loss: 522.125657, Train accuracy: 0.711556, val accuracy: 0.680000\n",
      "Epoch 7, Loss: 507.918903, Train accuracy: 0.715889, val accuracy: 0.689000\n",
      "Epoch 8, Loss: 495.375572, Train accuracy: 0.730222, val accuracy: 0.688000\n",
      "Epoch 9, Loss: 493.041882, Train accuracy: 0.736778, val accuracy: 0.693000\n",
      "Epoch 10, Loss: 482.871046, Train accuracy: 0.734778, val accuracy: 0.680000\n",
      "Epoch 11, Loss: 465.620891, Train accuracy: 0.768667, val accuracy: 0.708000\n",
      "Epoch 12, Loss: 467.265816, Train accuracy: 0.787778, val accuracy: 0.708000\n",
      "Epoch 13, Loss: 458.967488, Train accuracy: 0.789667, val accuracy: 0.714000\n",
      "Epoch 14, Loss: 455.790552, Train accuracy: 0.794889, val accuracy: 0.736000\n",
      "Epoch 15, Loss: 449.312008, Train accuracy: 0.793444, val accuracy: 0.716000\n",
      "Epoch 16, Loss: 438.786308, Train accuracy: 0.828444, val accuracy: 0.745000\n",
      "Epoch 17, Loss: 439.166427, Train accuracy: 0.809889, val accuracy: 0.727000\n",
      "Epoch 18, Loss: 432.354257, Train accuracy: 0.797556, val accuracy: 0.712000\n",
      "Epoch 19, Loss: 427.962494, Train accuracy: 0.811000, val accuracy: 0.723000\n"
     ]
    }
   ],
   "source": [
    "# TODO: Implement MomentumSGD.update function in optim.py\n",
    "\n",
    "model = TwoLayerNet(n_input = train_X.shape[1], n_output=10, hidden_layer_size=100, reg=1e-3)\n",
    "dataset = Dataset(train_X, train_y, val_X, val_y)\n",
    "trainer = Trainer(model, dataset, MomentumSGD(), learning_rate=1e-2, learning_rate_decay=0.99)\n",
    "\n",
    "# You should see even better results than before!\n",
    "loss_history, train_history, val_history = trainer.fit()"
   ]
  },
  {
   "cell_type": "code",
   "execution_count": 158,
   "metadata": {},
   "outputs": [
    {
     "name": "stdout",
     "output_type": "stream",
     "text": [
      "Epoch 0, Loss: 431.032714, Train accuracy: 0.795111, val accuracy: 0.712000\n",
      "Epoch 1, Loss: 425.624675, Train accuracy: 0.837111, val accuracy: 0.746000\n",
      "Epoch 2, Loss: 417.579734, Train accuracy: 0.823222, val accuracy: 0.732000\n",
      "Epoch 3, Loss: 418.762394, Train accuracy: 0.843778, val accuracy: 0.747000\n",
      "Epoch 4, Loss: 408.402553, Train accuracy: 0.845000, val accuracy: 0.749000\n",
      "Epoch 5, Loss: 405.230266, Train accuracy: 0.805333, val accuracy: 0.718000\n",
      "Epoch 6, Loss: 405.697530, Train accuracy: 0.838556, val accuracy: 0.745000\n",
      "Epoch 7, Loss: 402.755472, Train accuracy: 0.861222, val accuracy: 0.773000\n",
      "Epoch 8, Loss: 401.729564, Train accuracy: 0.854556, val accuracy: 0.740000\n",
      "Epoch 9, Loss: 404.291424, Train accuracy: 0.836667, val accuracy: 0.747000\n",
      "Epoch 10, Loss: 399.781372, Train accuracy: 0.853889, val accuracy: 0.753000\n",
      "Epoch 11, Loss: 395.213920, Train accuracy: 0.862889, val accuracy: 0.758000\n",
      "Epoch 12, Loss: 396.041692, Train accuracy: 0.851222, val accuracy: 0.740000\n",
      "Epoch 13, Loss: 393.275232, Train accuracy: 0.851556, val accuracy: 0.748000\n",
      "Epoch 14, Loss: 386.541648, Train accuracy: 0.844889, val accuracy: 0.734000\n",
      "Epoch 15, Loss: 395.466584, Train accuracy: 0.864889, val accuracy: 0.757000\n",
      "Epoch 16, Loss: 388.489947, Train accuracy: 0.873778, val accuracy: 0.763000\n",
      "Epoch 17, Loss: 387.207821, Train accuracy: 0.871000, val accuracy: 0.740000\n",
      "Epoch 18, Loss: 390.988895, Train accuracy: 0.864000, val accuracy: 0.747000\n",
      "Epoch 19, Loss: 389.466221, Train accuracy: 0.852000, val accuracy: 0.744000\n"
     ]
    }
   ],
   "source": [
    "loss_history, train_history, val_history = trainer.fit()"
   ]
  },
  {
   "cell_type": "code",
   "execution_count": 159,
   "metadata": {},
   "outputs": [
    {
     "data": {
      "text/plain": [
       "0.006689717585696805"
      ]
     },
     "execution_count": 159,
     "metadata": {},
     "output_type": "execute_result"
    }
   ],
   "source": [
    "trainer.learning_rate"
   ]
  },
  {
   "cell_type": "code",
   "execution_count": 161,
   "metadata": {},
   "outputs": [
    {
     "name": "stdout",
     "output_type": "stream",
     "text": [
      "Epoch 0, Loss: 437.807245, Train accuracy: 0.828222, val accuracy: 0.728000\n",
      "Epoch 1, Loss: 433.344374, Train accuracy: 0.855889, val accuracy: 0.748000\n",
      "Epoch 2, Loss: 429.870111, Train accuracy: 0.834222, val accuracy: 0.743000\n",
      "Epoch 3, Loss: 423.082695, Train accuracy: 0.845556, val accuracy: 0.735000\n",
      "Epoch 4, Loss: 423.881662, Train accuracy: 0.829889, val accuracy: 0.729000\n",
      "Epoch 5, Loss: 421.887134, Train accuracy: 0.819111, val accuracy: 0.703000\n",
      "Epoch 6, Loss: 420.720048, Train accuracy: 0.845778, val accuracy: 0.731000\n",
      "Epoch 7, Loss: 420.946262, Train accuracy: 0.847667, val accuracy: 0.732000\n",
      "Epoch 8, Loss: 409.537437, Train accuracy: 0.848333, val accuracy: 0.735000\n",
      "Epoch 9, Loss: 423.322232, Train accuracy: 0.849222, val accuracy: 0.742000\n",
      "Epoch 10, Loss: 410.483562, Train accuracy: 0.848667, val accuracy: 0.743000\n",
      "Epoch 11, Loss: 410.507871, Train accuracy: 0.874889, val accuracy: 0.764000\n",
      "Epoch 12, Loss: 405.663441, Train accuracy: 0.879444, val accuracy: 0.758000\n",
      "Epoch 13, Loss: 407.076274, Train accuracy: 0.848000, val accuracy: 0.731000\n",
      "Epoch 14, Loss: 399.421091, Train accuracy: 0.868444, val accuracy: 0.753000\n",
      "Epoch 15, Loss: 408.340958, Train accuracy: 0.867778, val accuracy: 0.754000\n",
      "Epoch 16, Loss: 403.563899, Train accuracy: 0.880889, val accuracy: 0.772000\n",
      "Epoch 17, Loss: 408.377513, Train accuracy: 0.849333, val accuracy: 0.737000\n",
      "Epoch 18, Loss: 402.567590, Train accuracy: 0.866333, val accuracy: 0.762000\n",
      "Epoch 19, Loss: 400.397656, Train accuracy: 0.873556, val accuracy: 0.768000\n"
     ]
    }
   ],
   "source": [
    "trainer.learning_rate = 1e-2\n",
    "loss_history, train_history, val_history = trainer.fit()"
   ]
  },
  {
   "cell_type": "code",
   "execution_count": 162,
   "metadata": {},
   "outputs": [
    {
     "data": {
      "text/plain": [
       "0.008179069375972308"
      ]
     },
     "execution_count": 162,
     "metadata": {},
     "output_type": "execute_result"
    }
   ],
   "source": [
    "trainer.learning_rate"
   ]
  },
  {
   "cell_type": "code",
   "execution_count": 163,
   "metadata": {},
   "outputs": [
    {
     "name": "stdout",
     "output_type": "stream",
     "text": [
      "Epoch 0, Loss: 395.706992, Train accuracy: 0.863222, val accuracy: 0.748000\n",
      "Epoch 1, Loss: 396.298364, Train accuracy: 0.859000, val accuracy: 0.727000\n",
      "Epoch 2, Loss: 395.203586, Train accuracy: 0.840111, val accuracy: 0.727000\n",
      "Epoch 3, Loss: 394.665493, Train accuracy: 0.818667, val accuracy: 0.714000\n",
      "Epoch 4, Loss: 395.290294, Train accuracy: 0.867222, val accuracy: 0.746000\n",
      "Epoch 5, Loss: 391.220166, Train accuracy: 0.885333, val accuracy: 0.767000\n",
      "Epoch 6, Loss: 386.589752, Train accuracy: 0.858000, val accuracy: 0.734000\n",
      "Epoch 7, Loss: 384.852209, Train accuracy: 0.893333, val accuracy: 0.770000\n",
      "Epoch 8, Loss: 384.611889, Train accuracy: 0.890556, val accuracy: 0.779000\n",
      "Epoch 9, Loss: 386.445803, Train accuracy: 0.894111, val accuracy: 0.762000\n",
      "Epoch 10, Loss: 380.923465, Train accuracy: 0.885667, val accuracy: 0.756000\n",
      "Epoch 11, Loss: 378.854580, Train accuracy: 0.874333, val accuracy: 0.766000\n",
      "Epoch 12, Loss: 386.292863, Train accuracy: 0.879000, val accuracy: 0.767000\n",
      "Epoch 13, Loss: 375.247174, Train accuracy: 0.894111, val accuracy: 0.768000\n",
      "Epoch 14, Loss: 376.079719, Train accuracy: 0.898444, val accuracy: 0.766000\n",
      "Epoch 15, Loss: 375.059031, Train accuracy: 0.885222, val accuracy: 0.769000\n",
      "Epoch 16, Loss: 372.586406, Train accuracy: 0.895667, val accuracy: 0.772000\n",
      "Epoch 17, Loss: 372.291732, Train accuracy: 0.898111, val accuracy: 0.765000\n",
      "Epoch 18, Loss: 376.902624, Train accuracy: 0.879444, val accuracy: 0.768000\n",
      "Epoch 19, Loss: 370.825903, Train accuracy: 0.870556, val accuracy: 0.745000\n"
     ]
    }
   ],
   "source": [
    "loss_history, train_history, val_history = trainer.fit()"
   ]
  },
  {
   "cell_type": "code",
   "execution_count": 164,
   "metadata": {},
   "outputs": [
    {
     "name": "stdout",
     "output_type": "stream",
     "text": [
      "Epoch 0, Loss: 329.432646, Train accuracy: 0.935889, val accuracy: 0.787000\n",
      "Epoch 1, Loss: 315.598040, Train accuracy: 0.939222, val accuracy: 0.793000\n",
      "Epoch 2, Loss: 313.334157, Train accuracy: 0.938556, val accuracy: 0.800000\n",
      "Epoch 3, Loss: 312.167521, Train accuracy: 0.939778, val accuracy: 0.794000\n",
      "Epoch 4, Loss: 311.370503, Train accuracy: 0.943000, val accuracy: 0.798000\n",
      "Epoch 5, Loss: 310.652883, Train accuracy: 0.942333, val accuracy: 0.801000\n",
      "Epoch 6, Loss: 309.617698, Train accuracy: 0.939778, val accuracy: 0.793000\n",
      "Epoch 7, Loss: 309.139949, Train accuracy: 0.942889, val accuracy: 0.796000\n",
      "Epoch 8, Loss: 309.242936, Train accuracy: 0.942778, val accuracy: 0.802000\n",
      "Epoch 9, Loss: 308.300996, Train accuracy: 0.944667, val accuracy: 0.799000\n",
      "Epoch 10, Loss: 307.798310, Train accuracy: 0.940000, val accuracy: 0.795000\n",
      "Epoch 11, Loss: 307.588009, Train accuracy: 0.945556, val accuracy: 0.805000\n",
      "Epoch 12, Loss: 306.921439, Train accuracy: 0.945000, val accuracy: 0.801000\n",
      "Epoch 13, Loss: 306.834401, Train accuracy: 0.945000, val accuracy: 0.802000\n",
      "Epoch 14, Loss: 306.478333, Train accuracy: 0.947556, val accuracy: 0.797000\n",
      "Epoch 15, Loss: 306.178146, Train accuracy: 0.947111, val accuracy: 0.799000\n",
      "Epoch 16, Loss: 305.641046, Train accuracy: 0.946778, val accuracy: 0.801000\n",
      "Epoch 17, Loss: 305.399032, Train accuracy: 0.945222, val accuracy: 0.800000\n",
      "Epoch 18, Loss: 304.988540, Train accuracy: 0.944000, val accuracy: 0.796000\n",
      "Epoch 19, Loss: 304.914820, Train accuracy: 0.947000, val accuracy: 0.801000\n"
     ]
    }
   ],
   "source": [
    "trainer.learning_rate /= 10\n",
    "loss_history, train_history, val_history = trainer.fit()"
   ]
  },
  {
   "cell_type": "code",
   "execution_count": 165,
   "metadata": {},
   "outputs": [
    {
     "name": "stdout",
     "output_type": "stream",
     "text": [
      "Epoch 0, Loss: 304.427104, Train accuracy: 0.948000, val accuracy: 0.800000\n",
      "Epoch 1, Loss: 304.301584, Train accuracy: 0.947778, val accuracy: 0.798000\n",
      "Epoch 2, Loss: 303.973414, Train accuracy: 0.946778, val accuracy: 0.800000\n",
      "Epoch 3, Loss: 303.534781, Train accuracy: 0.945111, val accuracy: 0.797000\n",
      "Epoch 4, Loss: 303.581012, Train accuracy: 0.947000, val accuracy: 0.799000\n",
      "Epoch 5, Loss: 303.242791, Train accuracy: 0.948667, val accuracy: 0.801000\n",
      "Epoch 6, Loss: 302.925693, Train accuracy: 0.946333, val accuracy: 0.796000\n",
      "Epoch 7, Loss: 302.835860, Train accuracy: 0.949889, val accuracy: 0.805000\n",
      "Epoch 8, Loss: 302.505669, Train accuracy: 0.948111, val accuracy: 0.800000\n",
      "Epoch 9, Loss: 302.168044, Train accuracy: 0.949111, val accuracy: 0.801000\n",
      "Epoch 10, Loss: 302.167876, Train accuracy: 0.949222, val accuracy: 0.800000\n",
      "Epoch 11, Loss: 301.808240, Train accuracy: 0.948333, val accuracy: 0.804000\n",
      "Epoch 12, Loss: 301.750398, Train accuracy: 0.947889, val accuracy: 0.796000\n",
      "Epoch 13, Loss: 301.476338, Train accuracy: 0.950889, val accuracy: 0.802000\n",
      "Epoch 14, Loss: 301.165023, Train accuracy: 0.946889, val accuracy: 0.794000\n",
      "Epoch 15, Loss: 301.214467, Train accuracy: 0.951222, val accuracy: 0.801000\n",
      "Epoch 16, Loss: 300.646101, Train accuracy: 0.950556, val accuracy: 0.801000\n",
      "Epoch 17, Loss: 300.783378, Train accuracy: 0.948556, val accuracy: 0.797000\n",
      "Epoch 18, Loss: 300.520798, Train accuracy: 0.949222, val accuracy: 0.802000\n",
      "Epoch 19, Loss: 300.397484, Train accuracy: 0.949556, val accuracy: 0.799000\n"
     ]
    }
   ],
   "source": [
    "loss_history, train_history, val_history = trainer.fit()"
   ]
  },
  {
   "cell_type": "code",
   "execution_count": 166,
   "metadata": {},
   "outputs": [
    {
     "data": {
      "text/plain": [
       "0.00044752321376381087"
      ]
     },
     "execution_count": 166,
     "metadata": {},
     "output_type": "execute_result"
    }
   ],
   "source": [
    "trainer.learning_rate"
   ]
  },
  {
   "cell_type": "code",
   "execution_count": 167,
   "metadata": {},
   "outputs": [
    {
     "name": "stdout",
     "output_type": "stream",
     "text": [
      "Epoch 0, Loss: 303.431637, Train accuracy: 0.949556, val accuracy: 0.796000\n",
      "Epoch 1, Loss: 303.272138, Train accuracy: 0.946111, val accuracy: 0.798000\n",
      "Epoch 2, Loss: 302.405646, Train accuracy: 0.948556, val accuracy: 0.800000\n",
      "Epoch 3, Loss: 302.349742, Train accuracy: 0.948111, val accuracy: 0.792000\n",
      "Epoch 4, Loss: 302.128999, Train accuracy: 0.950111, val accuracy: 0.795000\n",
      "Epoch 5, Loss: 301.963428, Train accuracy: 0.950333, val accuracy: 0.799000\n",
      "Epoch 6, Loss: 301.412016, Train accuracy: 0.948222, val accuracy: 0.797000\n",
      "Epoch 7, Loss: 301.812633, Train accuracy: 0.949556, val accuracy: 0.795000\n",
      "Epoch 8, Loss: 301.163441, Train accuracy: 0.949444, val accuracy: 0.799000\n",
      "Epoch 9, Loss: 301.007980, Train accuracy: 0.950222, val accuracy: 0.798000\n",
      "Epoch 10, Loss: 300.688066, Train accuracy: 0.952889, val accuracy: 0.800000\n",
      "Epoch 11, Loss: 300.586106, Train accuracy: 0.951778, val accuracy: 0.801000\n",
      "Epoch 12, Loss: 300.510334, Train accuracy: 0.951222, val accuracy: 0.803000\n",
      "Epoch 13, Loss: 299.996283, Train accuracy: 0.951556, val accuracy: 0.799000\n",
      "Epoch 14, Loss: 300.089651, Train accuracy: 0.950000, val accuracy: 0.804000\n",
      "Epoch 15, Loss: 299.617106, Train accuracy: 0.952444, val accuracy: 0.804000\n",
      "Epoch 16, Loss: 299.649702, Train accuracy: 0.951556, val accuracy: 0.802000\n",
      "Epoch 17, Loss: 299.463655, Train accuracy: 0.952667, val accuracy: 0.796000\n",
      "Epoch 18, Loss: 299.220024, Train accuracy: 0.953667, val accuracy: 0.798000\n",
      "Epoch 19, Loss: 298.913078, Train accuracy: 0.951889, val accuracy: 0.795000\n"
     ]
    }
   ],
   "source": [
    "trainer.learning_rate *= 2\n",
    "loss_history, train_history, val_history = trainer.fit()"
   ]
  },
  {
   "cell_type": "code",
   "execution_count": 168,
   "metadata": {},
   "outputs": [
    {
     "name": "stdout",
     "output_type": "stream",
     "text": [
      "Epoch 0, Loss: 294.905345, Train accuracy: 0.954111, val accuracy: 0.801000\n",
      "Epoch 1, Loss: 294.187918, Train accuracy: 0.954889, val accuracy: 0.798000\n",
      "Epoch 2, Loss: 293.935956, Train accuracy: 0.954556, val accuracy: 0.801000\n",
      "Epoch 3, Loss: 293.920912, Train accuracy: 0.955444, val accuracy: 0.798000\n",
      "Epoch 4, Loss: 293.857191, Train accuracy: 0.955333, val accuracy: 0.800000\n",
      "Epoch 5, Loss: 293.818077, Train accuracy: 0.955667, val accuracy: 0.800000\n",
      "Epoch 6, Loss: 293.817567, Train accuracy: 0.955333, val accuracy: 0.800000\n",
      "Epoch 7, Loss: 293.743369, Train accuracy: 0.955222, val accuracy: 0.797000\n",
      "Epoch 8, Loss: 293.724874, Train accuracy: 0.955778, val accuracy: 0.799000\n",
      "Epoch 9, Loss: 293.711878, Train accuracy: 0.955222, val accuracy: 0.799000\n",
      "Epoch 10, Loss: 293.654544, Train accuracy: 0.955333, val accuracy: 0.799000\n",
      "Epoch 11, Loss: 293.641173, Train accuracy: 0.955556, val accuracy: 0.797000\n",
      "Epoch 12, Loss: 293.670496, Train accuracy: 0.955444, val accuracy: 0.799000\n",
      "Epoch 13, Loss: 293.603275, Train accuracy: 0.955000, val accuracy: 0.798000\n",
      "Epoch 14, Loss: 293.545846, Train accuracy: 0.954889, val accuracy: 0.799000\n",
      "Epoch 15, Loss: 293.551688, Train accuracy: 0.955222, val accuracy: 0.801000\n",
      "Epoch 16, Loss: 293.581788, Train accuracy: 0.955222, val accuracy: 0.800000\n",
      "Epoch 17, Loss: 293.537986, Train accuracy: 0.955444, val accuracy: 0.801000\n",
      "Epoch 18, Loss: 293.477629, Train accuracy: 0.956556, val accuracy: 0.800000\n",
      "Epoch 19, Loss: 293.498175, Train accuracy: 0.955889, val accuracy: 0.797000\n"
     ]
    }
   ],
   "source": [
    "trainer.learning_rate /= 10\n",
    "loss_history, train_history, val_history = trainer.fit()"
   ]
  },
  {
   "cell_type": "code",
   "execution_count": 169,
   "metadata": {},
   "outputs": [
    {
     "name": "stdout",
     "output_type": "stream",
     "text": [
      "Epoch 0, Loss: 293.035429, Train accuracy: 0.956111, val accuracy: 0.797000\n",
      "Epoch 1, Loss: 293.023264, Train accuracy: 0.956000, val accuracy: 0.797000\n",
      "Epoch 2, Loss: 293.014285, Train accuracy: 0.956000, val accuracy: 0.797000\n",
      "Epoch 3, Loss: 293.007220, Train accuracy: 0.955889, val accuracy: 0.798000\n",
      "Epoch 4, Loss: 293.003991, Train accuracy: 0.956000, val accuracy: 0.799000\n",
      "Epoch 5, Loss: 293.001057, Train accuracy: 0.956000, val accuracy: 0.800000\n",
      "Epoch 6, Loss: 292.996881, Train accuracy: 0.955889, val accuracy: 0.800000\n",
      "Epoch 7, Loss: 292.996955, Train accuracy: 0.955889, val accuracy: 0.800000\n",
      "Epoch 8, Loss: 292.993453, Train accuracy: 0.955889, val accuracy: 0.800000\n",
      "Epoch 9, Loss: 292.989740, Train accuracy: 0.955778, val accuracy: 0.800000\n",
      "Epoch 10, Loss: 292.986937, Train accuracy: 0.955778, val accuracy: 0.800000\n",
      "Epoch 11, Loss: 292.984249, Train accuracy: 0.955667, val accuracy: 0.800000\n",
      "Epoch 12, Loss: 292.983740, Train accuracy: 0.955667, val accuracy: 0.800000\n",
      "Epoch 13, Loss: 292.981648, Train accuracy: 0.955556, val accuracy: 0.800000\n",
      "Epoch 14, Loss: 292.979216, Train accuracy: 0.955667, val accuracy: 0.800000\n",
      "Epoch 15, Loss: 292.976945, Train accuracy: 0.955667, val accuracy: 0.800000\n",
      "Epoch 16, Loss: 292.976584, Train accuracy: 0.955667, val accuracy: 0.800000\n",
      "Epoch 17, Loss: 292.971488, Train accuracy: 0.955667, val accuracy: 0.800000\n",
      "Epoch 18, Loss: 292.969585, Train accuracy: 0.955667, val accuracy: 0.800000\n",
      "Epoch 19, Loss: 292.969332, Train accuracy: 0.955667, val accuracy: 0.800000\n"
     ]
    }
   ],
   "source": [
    "trainer.learning_rate /= 10\n",
    "loss_history, train_history, val_history = trainer.fit()"
   ]
  },
  {
   "cell_type": "code",
   "execution_count": 171,
   "metadata": {},
   "outputs": [
    {
     "data": {
      "text/plain": [
       "0.779"
      ]
     },
     "execution_count": 171,
     "metadata": {},
     "output_type": "execute_result"
    }
   ],
   "source": [
    "from metrics import multiclass_accuracy\n",
    "\n",
    "multiclass_accuracy(trainer.model.predict(test_X), test_y)"
   ]
  }
 ],
 "metadata": {
  "environment": {
   "name": "pytorch-gpu.1-9.m75",
   "type": "gcloud",
   "uri": "gcr.io/deeplearning-platform-release/pytorch-gpu.1-9:m75"
  },
  "kernelspec": {
   "display_name": "Python [conda env:root] *",
   "language": "python",
   "name": "conda-root-py"
  },
  "language_info": {
   "codemirror_mode": {
    "name": "ipython",
    "version": 3
   },
   "file_extension": ".py",
   "mimetype": "text/x-python",
   "name": "python",
   "nbconvert_exporter": "python",
   "pygments_lexer": "ipython3",
   "version": "3.7.10"
  }
 },
 "nbformat": 4,
 "nbformat_minor": 4
}
